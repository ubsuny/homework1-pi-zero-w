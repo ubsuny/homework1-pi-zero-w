{
 "cells": [
  {
   "cell_type": "markdown",
   "id": "coordinated-japanese",
   "metadata": {},
   "source": [
    "## Jeremy Kazimer\n",
    "#### 5018-1732\n",
    "#### Assignment #1"
   ]
  },
  {
   "cell_type": "markdown",
   "id": "integrated-windsor",
   "metadata": {},
   "source": [
    "---"
   ]
  },
  {
   "cell_type": "markdown",
   "id": "relevant-religious",
   "metadata": {},
   "source": [
    "For the first assignment of this class, I would like to replicate Assignment #5, Problem #1 of PHY 410.  The question supposes that we have code to generate a vector of size $N = 1,000,000$ of five numbers $\\vec{x}_i$ such that they're randomly-distributed by some mean and standard deviation.  Then, the goal is to calculate the weighted average for each of the five numbers with non-normalized weights $\\vec{W} = \\left(5, 15, 30, 100, 400\\right)$.\n",
    "\n",
    "The catch is that we're not supposed to use loops.  On a normal computer, this is easy.  However, on a Raspberry Pi Zero W it's a bit different.  Namely, the processing power is severly reduced.  For example, my current laptop has 8 GB of RAM with a 3-core 1.2 GHz processor.  The Raspberry Pi Zero W, on the other hand, has 512 MB of RAM with a 1-core 1 GHz processor.  Thus, the problem must be modified to meets the demands of this device."
   ]
  },
  {
   "cell_type": "markdown",
   "id": "grave-helena",
   "metadata": {},
   "source": [
    "For example, it is not feasible to import the entirety of `numpy`.  Instead, we'll have to important only the sub-libraries that we need:"
   ]
  },
  {
   "cell_type": "code",
   "execution_count": 6,
   "id": "infinite-edinburgh",
   "metadata": {},
   "outputs": [],
   "source": [
    "from numpy import random\n",
    "from numpy import array"
   ]
  },
  {
   "cell_type": "markdown",
   "id": "julian-while",
   "metadata": {},
   "source": [
    "We can, however, keep $N = 1,000,000$, but the runtime will be atrocious in producing the array (but also operations on said array) due to technical limitations.  Therefore, it would be sensical to decrease $N = 1,000,000 \\to N = 100,000$.  Consider that $\\text{size}(x) = 100,000 \\times 5$ so it's not quite 1-dimensional."
   ]
  },
  {
   "cell_type": "code",
   "execution_count": 9,
   "id": "fossil-commerce",
   "metadata": {},
   "outputs": [],
   "source": [
    "# Vector of random x's\n",
    "x = random.normal(size = (100000, 5), \n",
    "                 loc = [20, 30, 20, 50, 30], \n",
    "                 scale = [5, 5, 5, 5, 5])"
   ]
  },
  {
   "cell_type": "markdown",
   "id": "historic-employer",
   "metadata": {},
   "source": [
    "Now, the weights:"
   ]
  },
  {
   "cell_type": "code",
   "execution_count": 10,
   "id": "educational-entrance",
   "metadata": {},
   "outputs": [],
   "source": [
    "# Unnormalized weights\n",
    "W = array([5, 15, 30, 100, 400])\n",
    "\n",
    "# Normalized weights\n",
    "nW = W/W.sum()"
   ]
  },
  {
   "cell_type": "markdown",
   "id": "medium-january",
   "metadata": {},
   "source": [
    "Then, we can calculate the weighted average via the formula\n",
    "\n",
    "$$\n",
    "\\bar{x} = \\frac{1}{N}  \\sum_{i=0}^{N-1} \\vec{x}_i \\cdot \\vec{W}_i\n",
    "$$\n",
    "\n",
    "which translates roughly to this code.  I opt to use my own definition (in comparison to the original assignment) because it saves on importing functions from `numpy`."
   ]
  },
  {
   "cell_type": "code",
   "execution_count": 14,
   "id": "dedicated-services",
   "metadata": {},
   "outputs": [],
   "source": [
    "# Dot product\n",
    "dp = x*nW"
   ]
  },
  {
   "cell_type": "code",
   "execution_count": 15,
   "id": "needed-oklahoma",
   "metadata": {},
   "outputs": [],
   "source": [
    "# Weighted average\n",
    "wa = dp.sum()/x.shape[0]"
   ]
  },
  {
   "cell_type": "code",
   "execution_count": 18,
   "id": "racial-minority",
   "metadata": {},
   "outputs": [
    {
     "name": "stdout",
     "output_type": "stream",
     "text": [
      "The weighted average: 32.9926\n"
     ]
    }
   ],
   "source": [
    "print('The weighted average: {:.4f}'.format(wa))"
   ]
  },
  {
   "cell_type": "markdown",
   "id": "departmental-hardwood",
   "metadata": {},
   "source": [
    "Although this assignment reproduction is rather simple, I think it captures in essence the issues I will be facing with the Raspberry Pi Zero W:  computational power.  Not only does it lack RAM, but it also does not have the processor for some of the assignments seen in the previous semester.  As such, compromises will have to be made (importing only portions of a library or reducing the size of an assignment) in order for this to work.  In a way, it's a self-imposed challenge, as any other Raspberry Pi model is definitely more powerful.  Regardless, I think I captured the tone of the Raspberry Pi Zero W moving forward."
   ]
  },
  {
   "cell_type": "markdown",
   "id": "electronic-grammar",
   "metadata": {},
   "source": [
    "---"
   ]
  }
 ],
 "metadata": {
  "kernelspec": {
   "display_name": "Python 3",
   "language": "python",
   "name": "python3"
  },
  "language_info": {
   "codemirror_mode": {
    "name": "ipython",
    "version": 3
   },
   "file_extension": ".py",
   "mimetype": "text/x-python",
   "name": "python",
   "nbconvert_exporter": "python",
   "pygments_lexer": "ipython3",
   "version": "3.7.3"
  }
 },
 "nbformat": 4,
 "nbformat_minor": 5
}
